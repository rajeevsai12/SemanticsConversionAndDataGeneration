{
  "nbformat": 4,
  "nbformat_minor": 0,
  "metadata": {
    "colab": {
      "provenance": [],
      "authorship_tag": "ABX9TyOq32Anb/FxBKvW6+36pR/6",
      "include_colab_link": true
    },
    "kernelspec": {
      "name": "python3",
      "display_name": "Python 3"
    },
    "language_info": {
      "name": "python"
    }
  },
  "cells": [
    {
      "cell_type": "markdown",
      "metadata": {
        "id": "view-in-github",
        "colab_type": "text"
      },
      "source": [
        "<a href=\"https://colab.research.google.com/github/rajeevsai12/SemanticsConversionAndDataGeneration/blob/main/CovidDeathsByCountryCsvToRdf.ipynb\" target=\"_parent\"><img src=\"https://colab.research.google.com/assets/colab-badge.svg\" alt=\"Open In Colab\"/></a>"
      ]
    },
    {
      "cell_type": "code",
      "execution_count": 2,
      "metadata": {
        "id": "uui5uvm2VBn6"
      },
      "outputs": [],
      "source": [
        "# used the references of 'rdflib' from 'https://rdflib.readthedocs.io/en/stable/intro_to_parsing.html'\n",
        "\n",
        "%%capture\n",
        "!pip3 install rdflib sparqlwrapper pydotplus graphviz\n",
        "\n",
        "import pandas as pd\n",
        "from rdflib import Graph, Literal, Namespace, RDF, RDFS, URIRef, OWL\n",
        "from rdflib.namespace import XSD\n",
        "\n",
        "def create_rdf_graph(df, NS):\n",
        "    # Create an RDF graph\n",
        "    g = Graph()\n",
        "\n",
        "    # Define RowId Class\n",
        "    RowId = URIRef(\"http://example.org/RowId\")\n",
        "    g.add((RowId, RDF.type, OWL.Class))\n",
        "   \n",
        "    properties = list(df.columns.str.split())\n",
        "    properties1 = list(df.columns)\n",
        "\n",
        "    for i in range(len(properties)):\n",
        "      properties[i] = ''.join(properties[i])\n",
        "\n",
        "    for i in range(len(properties)):\n",
        "      if '-' in properties[i]:\n",
        "        properties[i] = properties[i].replace('-','')\n",
        "\n",
        "    for p in properties:\n",
        "        g.add((NS.p, RDF.type, OWL.DatatypeProperty))\n",
        "        \n",
        "    # Iterate over the rows in the DataFrame and create RDF triples for each row\n",
        "    for _, row in df.iterrows():\n",
        "        row_uri = URIRef(str(NS)+\"row\"+str(row['FIPS County Code']))\n",
        "        g.add((row_uri, RDF.type, NS.RowId))\n",
        "        for p in range(len(properties1)):\n",
        "            g.add((row_uri, NS[properties[p]], Literal(row[properties1[p]], datatype=XSD.string)))\n",
        "    return g\n",
        "\n",
        "NS = Namespace(\"http://covide-19-deaths.org/\")\n",
        "df = pd.read_csv(\"Provisional_COVID-19_Death_Counts_in_the_United_States_by_County.csv\")\n",
        "g = create_rdf_graph(df, NS)\n",
        "g.serialize(destination='Covid19CountryDeaths.rdf',format='xml')"
      ]
    }
  ]
}